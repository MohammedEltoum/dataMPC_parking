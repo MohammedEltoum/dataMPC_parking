{
 "cells": [
  {
   "cell_type": "markdown",
   "metadata": {},
   "source": [
    "# Process Rosbag and plot"
   ]
  },
  {
   "cell_type": "code",
   "execution_count": null,
   "metadata": {},
   "outputs": [],
   "source": [
    "# Auto Reload Modules\n",
    "%load_ext autoreload\n",
    "%autoreload 2\n",
    "\n",
    "import glob\n",
    "import numpy as np\n",
    "import matplotlib.pyplot as plt\n",
    "import matplotlib.image as mpimg\n",
    "from matplotlib import rc, font_manager, transforms\n",
    "\n",
    "from bag_utils import extract_traj\n",
    "from plot_utils import plot_map_2d, plot_map_3d, plot_car_frames\n",
    "\n",
    "np.random.seed(0)"
   ]
  },
  {
   "cell_type": "code",
   "execution_count": null,
   "metadata": {},
   "outputs": [],
   "source": [
    "test_x = np.linspace(0, 6, num=100)\n",
    "test_y = np.sin(test_x)\n",
    "\n",
    "W = 0.265\n",
    "L = 0.52\n",
    "\n",
    "fig = plt.figure()\n",
    "ax = plt.gca()\n",
    "\n",
    "ax.plot(test_x, test_y, linewidth=2)\n",
    "\n",
    "blue_car = mpimg.imread('car_icons_blue.png')\n",
    "\n",
    "pos_list = [np.array([0, 0, 0]), np.array([np.pi/2, 1, np.pi/2])]\n",
    "\n",
    "plot_car_frames(ax, pos_list, blue_car, plot_shape=[W, L])\n",
    "\n",
    "plt.xlim([0, 6])\n",
    "plt.ylim([-1.5, 1.5])\n"
   ]
  },
  {
   "cell_type": "markdown",
   "metadata": {},
   "source": [
    "## Load bag and extract data"
   ]
  },
  {
   "cell_type": "code",
   "execution_count": null,
   "metadata": {},
   "outputs": [],
   "source": [
    "bag_files = glob.glob(\"./bag_data/*.bag\")\n",
    "print(\"Found bags:\", bag_files)"
   ]
  },
  {
   "cell_type": "code",
   "execution_count": null,
   "metadata": {
    "tags": []
   },
   "outputs": [],
   "source": [
    "bag_num = 0\n",
    "\n",
    "FSM, EV, TV = extract_traj(bag_files[bag_num])"
   ]
  },
  {
   "cell_type": "markdown",
   "metadata": {},
   "source": [
    "## Visualization"
   ]
  },
  {
   "cell_type": "code",
   "execution_count": null,
   "metadata": {},
   "outputs": [],
   "source": [
    "# Generate occupancy randomly\n",
    "occupancy = np.random.rand(2, 19)\n",
    "occupancy[occupancy <= 0.5] = 0\n",
    "occupancy[occupancy > 0.5] = 1\n",
    "# Set the destination of target vehicle to be empty\n",
    "occupancy[0, 10] = 0\n",
    "\n",
    "# Plot the figure in an interactive window\n",
    "%matplotlib qt\n",
    "\n",
    "rc('font', **{'family': \"Times New Roman\"})"
   ]
  },
  {
   "cell_type": "markdown",
   "metadata": {},
   "source": [
    "### Plot 2D trajectoies"
   ]
  },
  {
   "cell_type": "code",
   "execution_count": null,
   "metadata": {},
   "outputs": [],
   "source": [
    "fig_name = \"ParkingLot2D\"\n",
    "x_boundary = [-0.1, 6.1]\n",
    "y_boundary = [-1.5, 1.5]\n",
    "\n",
    "fig = plt.figure(fig_name, figsize=(6.5, 2.5))\n",
    "\n",
    "plot_map_2d(fig_name, occupancy=occupancy)\n",
    "\n",
    "plt.plot(TV.x, TV.y, linewidth=4, color='g', label=\"TV\")\n",
    "plt.plot(EV.x, EV.y, linewidth=4, color='b', label=\"EV\")\n",
    "\n",
    "plt.legend(loc=(0.13, 0.65), prop={'size': 10})\n",
    "\n",
    "plt.axis(\"equal\")\n",
    "plt.xlim(x_boundary)\n",
    "plt.ylim(y_boundary)\n",
    "\n",
    "ax = plt.gca()\n",
    "\n",
    "W = 0.265\n",
    "L = 0.52\n",
    "\n",
    "blue_car = mpimg.imread('car_icons_blue.png')\n",
    "green_car = mpimg.imread('car_icons_green.png')\n",
    "\n",
    "pos_idxs = [int(i/5*len(EV.x)) for i in range(5)]\n",
    "\n",
    "pos_list = [np.array([EV.x[idx], EV.y[idx], EV.heading[idx]]) for idx in pos_idxs]\n",
    "\n",
    "plot_car_frames(ax, pos_list, blue_car, plot_shape=[W, L])\n",
    "\n",
    "plt.xlim([0, 6])\n",
    "plt.ylim([-1.5, 1.5])\n",
    "\n",
    "ax.set_axis_off()\n",
    "\n",
    "fig.tight_layout()"
   ]
  },
  {
   "source": [
    "### Plot 3D trajectories (+Time)"
   ],
   "cell_type": "markdown",
   "metadata": {}
  },
  {
   "cell_type": "code",
   "execution_count": null,
   "metadata": {},
   "outputs": [],
   "source": [
    "fig_name = \"ParkingLot3D\"\n",
    "\n",
    "fig = plt.figure(fig_name, figsize=(15, 15), dpi=200)\n",
    "\n",
    "# plot_map_3d(fig_name, occupancy=occupancy)\n",
    "plot_map_3d(fig_name, height=EV.state_t[-1]-EV.state_t[0], occupancy=occupancy)\n",
    "\n",
    "ax = plt.gca()\n",
    "\n",
    "ax.plot3D(TV.x, TV.y, TV.state_t, linewidth=4, color='g', label=\"TV\")\n",
    "ax.plot3D(EV.x, EV.y, EV.state_t, linewidth=4, color='b', label=\"EV\")\n",
    "\n",
    "ax.set_yticks(ticks=[-1, 0, 1])\n",
    "ax.set_zticks(ticks=[0, 5, 10, 15, 20])\n",
    "# ax.tick_params(labelsize=10)\n",
    "\n",
    "ax.set_xlabel(\"X (m)\", labelpad=10, fontdict={\"fontname\": \"Times New Roman\", \"fontsize\": 15, \"fontweight\": \"bold\"})\n",
    "ax.set_ylabel(\"Y (m)\", fontdict={\"fontname\": \"Times New Roman\", \"fontsize\": 15, \"fontweight\": \"bold\"})\n",
    "ax.set_zlabel(\"Time (s)\", fontdict={\"fontname\": \"Times New Roman\", \"fontsize\": 15, \"fontweight\": \"bold\"})\n",
    "\n",
    "font = font_manager.FontProperties(family=\"Times New Roman\")\n",
    "\n",
    "ax.legend(loc=(0.85,0.7), prop=font)\n",
    "\n",
    "ax.set_box_aspect([2.5,1,1])\n",
    "\n",
    "fig.tight_layout()"
   ]
  },
  {
   "source": [
    "### Plot Speed"
   ],
   "cell_type": "markdown",
   "metadata": {}
  },
  {
   "cell_type": "code",
   "execution_count": null,
   "metadata": {},
   "outputs": [],
   "source": [
    "fig_name = \"Speed\"\n",
    "fig = plt.figure(fig_name, figsize=(12, 5))\n",
    "plt.plot(EV.state_t, EV.v, linewidth=2, color='b', label=\"EV\")\n",
    "\n",
    "plt.xlabel(\"Time (s)\", fontdict={\"fontname\": \"Times New Roman\", \"fontsize\": 20, \"fontweight\": \"bold\"})\n",
    "plt.ylabel(\"Speed (m/s)\", fontdict={\"fontname\": \"Times New Roman\", \"fontsize\": 20, \"fontweight\": \"bold\"})\n",
    "plt.yticks(font=\"Times New Roman\", size=15)\n",
    "plt.xticks(font=\"Times New Roman\", size=15)\n",
    "\n",
    "fig.tight_layout()"
   ]
  },
  {
   "source": [
    "### Plot Input"
   ],
   "cell_type": "markdown",
   "metadata": {}
  },
  {
   "cell_type": "code",
   "execution_count": null,
   "metadata": {},
   "outputs": [],
   "source": [
    "fig_name = \"Input\"\n",
    "fig = plt.figure(fig_name, figsize=(12, 5))\n",
    "\n",
    "ax1 = plt.gca()\n",
    "ax1.plot(EV.input_t, EV.delta, linewidth=4, color='C1', label=\"Steering\")\n",
    "\n",
    "ax1.set_xlabel(\"Time (s)\", fontdict={\"fontname\": \"Times New Roman\", \"fontsize\": 20, \"fontweight\": \"bold\"})\n",
    "\n",
    "ax1.set_ylabel(\"Steering (rad)\", color='C1', fontdict={\"fontname\": \"Times New Roman\", \"fontsize\": 20, \"fontweight\": \"bold\"})\n",
    "ax1.tick_params(axis='y', labelcolor='C1', labelsize=15)\n",
    "\n",
    "ax2 = ax1.twinx()\n",
    "\n",
    "ax2.plot(EV.input_t, EV.a, linewidth=4, color='C2', label=\"Acceleration\")\n",
    "\n",
    "ax2.set_ylabel(\"Acceleration (m/s$^2$)\", color='C2', fontdict={\"fontname\": \"Times New Roman\", \"fontsize\": 20, \"fontweight\": \"bold\"})\n",
    "ax2.tick_params(axis='y', labelcolor='C2', labelsize=15)\n",
    "\n",
    "fig.tight_layout()"
   ]
  },
  {
   "source": [
    "### Plot Scores"
   ],
   "cell_type": "markdown",
   "metadata": {
    "tags": []
   }
  },
  {
   "cell_type": "code",
   "execution_count": null,
   "metadata": {},
   "outputs": [],
   "source": [
    "fig_name = \"Score\"\n",
    "fig = plt.figure(fig_name, figsize=(12, 5))\n",
    "plt.plot(FSM.t, FSM.score_l, linewidth=4, color='C1', label=\"Left\")\n",
    "plt.plot(FSM.t, FSM.score_r, linewidth=4, color='C2', label=\"Right\")\n",
    "plt.plot(FSM.t, FSM.score_y, linewidth=4, color='C3', label=\"Yield\")\n",
    "\n",
    "plt.legend(prop={'size': 20})\n",
    "\n",
    "plt.xlabel(\"Time (s)\", fontdict={\"fontname\": \"Times New Roman\", \"fontsize\": 20, \"fontweight\": \"bold\"})\n",
    "plt.ylabel(\"Confidence\", fontdict={\"fontname\": \"Times New Roman\", \"fontsize\": 20, \"fontweight\": \"bold\"})\n",
    "plt.xticks(size=15)\n",
    "plt.yticks(size=15)\n",
    "plt.grid(axis='y')\n",
    "\n",
    "fig.tight_layout()"
   ]
  },
  {
   "source": [
    "### Plot Mode"
   ],
   "cell_type": "markdown",
   "metadata": {}
  },
  {
   "cell_type": "code",
   "execution_count": null,
   "metadata": {},
   "outputs": [],
   "source": [
    "fig_name = \"FSM\"\n",
    "fig = plt.figure(fig_name, figsize=(12, 5))\n",
    "plt.plot(FSM.t, FSM.state_idxs, linewidth=4, color='C1')\n",
    "\n",
    "plt.xlabel(\"Time (s)\", fontdict={\"fontname\": \"Times New Roman\", \"fontsize\": 20, \"fontweight\": \"bold\"})\n",
    "plt.yticks(ticks=np.arange(7), labels=FSM.state_names, font=\"Times New Roman\", size=15)\n",
    "plt.xticks(font=\"Times New Roman\", size=15)\n",
    "plt.grid(axis='y')\n",
    "\n",
    "fig.tight_layout()"
   ]
  },
  {
   "cell_type": "code",
   "execution_count": null,
   "metadata": {},
   "outputs": [],
   "source": []
  }
 ],
 "metadata": {
  "kernelspec": {
   "display_name": "Python 3",
   "language": "python",
   "name": "python3"
  },
  "language_info": {
   "codemirror_mode": {
    "name": "ipython",
    "version": 3
   },
   "file_extension": ".py",
   "mimetype": "text/x-python",
   "name": "python",
   "nbconvert_exporter": "python",
   "pygments_lexer": "ipython3",
   "version": "3.8.5-final"
  }
 },
 "nbformat": 4,
 "nbformat_minor": 4
}