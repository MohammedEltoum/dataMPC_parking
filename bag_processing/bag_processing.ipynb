{
 "cells": [
  {
   "cell_type": "markdown",
   "metadata": {},
   "source": [
    "# Process Rosbag and plot"
   ]
  },
  {
   "cell_type": "code",
   "execution_count": null,
   "metadata": {},
   "outputs": [],
   "source": [
    "# Auto Reload Modules\n",
    "%load_ext autoreload\n",
    "%autoreload 2\n",
    "\n",
    "import glob\n",
    "import numpy as np\n",
    "import matplotlib.pyplot as plt\n",
    "import matplotlib\n",
    "\n",
    "from bag_utils import extract_traj\n",
    "from plot_utils import plot_map_2d, plot_map_3d\n",
    "\n",
    "np.random.seed(0)"
   ]
  },
  {
   "cell_type": "markdown",
   "metadata": {},
   "source": [
    "## Load bag and extract data"
   ]
  },
  {
   "cell_type": "code",
   "execution_count": null,
   "metadata": {},
   "outputs": [],
   "source": [
    "bag_files = glob.glob(\"./bag_data/*.bag\")\n",
    "print(\"Found bags:\", bag_files)"
   ]
  },
  {
   "cell_type": "code",
   "execution_count": null,
   "metadata": {
    "tags": []
   },
   "outputs": [],
   "source": [
    "bag_num = 0\n",
    "\n",
    "FSM, EV, TV = extract_traj(bag_files[bag_num])"
   ]
  },
  {
   "cell_type": "markdown",
   "metadata": {},
   "source": [
    "## Visualizer"
   ]
  },
  {
   "cell_type": "code",
   "execution_count": null,
   "metadata": {},
   "outputs": [],
   "source": [
    "# Generate occupancy randomly\n",
    "occupancy = np.random.rand(2, 19)\n",
    "occupancy[occupancy <= 0.5] = 0\n",
    "occupancy[occupancy > 0.5] = 1\n",
    "# Set the destination of target vehicle to be empty\n",
    "occupancy[0, 10] = 0"
   ]
  },
  {
   "cell_type": "markdown",
   "metadata": {},
   "source": [
    "### Plot 2D trajectoies"
   ]
  },
  {
   "cell_type": "code",
   "execution_count": null,
   "metadata": {},
   "outputs": [],
   "source": [
    "# Plot Inline\n",
    "%matplotlib inline\n",
    "fig_name = \"ParkingLot2D\"\n",
    "x_boundary = [-0.1, 6.1]\n",
    "y_boundary = [-1.5, 1.5]\n",
    "\n",
    "fig = plt.figure(fig_name, figsize=(6.5, 2.5))\n",
    "\n",
    "plot_map_2d(fig_name, occupancy=occupancy)\n",
    "\n",
    "plt.plot(TV.x, TV.y, linewidth=4, color='g', label=\"TV\")\n",
    "plt.plot(EV.x, EV.y, linewidth=4, color='b', label=\"EV\")\n",
    "\n",
    "plt.legend(loc=(0.13, 0.65))\n",
    "\n",
    "plt.axis(\"equal\")\n",
    "plt.xlim(x_boundary)\n",
    "plt.ylim(y_boundary)\n",
    "\n",
    "ax = plt.gca()\n",
    "ax.set_axis_off()\n",
    "fig.tight_layout()"
   ]
  },
  {
   "source": [
    "### Plot 3D trajectories (+Time)"
   ],
   "cell_type": "markdown",
   "metadata": {}
  },
  {
   "cell_type": "code",
   "execution_count": null,
   "metadata": {},
   "outputs": [],
   "source": [
    "# Plot the figure in an interactive window\n",
    "%matplotlib qt\n",
    "\n",
    "fig_name = \"ParkingLot3D\"\n",
    "\n",
    "fig = plt.figure(fig_name, figsize=(6, 6))\n",
    "\n",
    "# plot_map_3d(fig_name, occupancy=occupancy)\n",
    "plot_map_3d(fig_name, height=EV.t[-1]-EV.t[0], occupancy=occupancy)\n",
    "\n",
    "ax = plt.gca()\n",
    "\n",
    "ax.plot3D(TV.x, TV.y, TV.t, linewidth=4, color='g', label=\"TV\")\n",
    "ax.plot3D(EV.x, EV.y, EV.t, linewidth=4, color='b', label=\"EV\")\n",
    "\n",
    "ax.set_yticks(ticks=[-1, 0, 1])\n",
    "ax.set_zticks(ticks=[0, 5, 10, 15, 20])\n",
    "\n",
    "ax.set_xlabel(\"X (m)\", labelpad=10, fontdict={\"fontname\": \"Times New Roman\", \"fontsize\": 15, \"fontweight\": \"bold\"})\n",
    "ax.set_ylabel(\"Y (m)\", fontdict={\"fontname\": \"Times New Roman\", \"fontsize\": 15, \"fontweight\": \"bold\"})\n",
    "ax.set_zlabel(\"Time (s)\", fontdict={\"fontname\": \"Times New Roman\", \"fontsize\": 15, \"fontweight\": \"bold\"})\n",
    "ax.legend(loc=(0.85,0.75))\n",
    "\n",
    "ax.set_box_aspect([2.5,1,1])\n"
   ]
  },
  {
   "source": [
    "### Plot Speed"
   ],
   "cell_type": "markdown",
   "metadata": {}
  },
  {
   "cell_type": "code",
   "execution_count": null,
   "metadata": {},
   "outputs": [],
   "source": [
    "# Plot Inline\n",
    "%matplotlib inline\n",
    "\n",
    "fig_name = \"Speed\"\n",
    "fig = plt.figure(fig_name, figsize=(6.5, 2.5))\n",
    "plt.plot(TV.t, TV.v, linewidth=2, color='g', label=\"TV\")\n",
    "plt.plot(EV.t, EV.v, linewidth=2, color='b', label=\"EV\")\n",
    "plt.legend()\n",
    "\n",
    "plt.xlabel(\"Time (s)\", fontdict={\"fontname\": \"Times New Roman\", \"fontsize\": 15, \"fontweight\": \"bold\"})\n",
    "plt.ylabel(\"Speed (m/s)\", fontdict={\"fontname\": \"Times New Roman\", \"fontsize\": 15, \"fontweight\": \"bold\"})\n",
    "plt.xticks(font=\"Times New Roman\", size=12)"
   ]
  },
  {
   "source": [
    "### Plot Scores"
   ],
   "cell_type": "markdown",
   "metadata": {
    "tags": []
   }
  },
  {
   "cell_type": "code",
   "execution_count": null,
   "metadata": {},
   "outputs": [],
   "source": [
    "# Plot Inline\n",
    "%matplotlib inline\n",
    "\n",
    "fig_name = \"Speed\"\n",
    "fig = plt.figure(fig_name, figsize=(6.5, 2.5))\n",
    "plt.plot(FSM.t, FSM.score_l, linewidth=2, color='b', label=\"Left\")\n",
    "plt.plot(FSM.t, FSM.score_r, linewidth=2, color='g', label=\"Right\")\n",
    "plt.plot(FSM.t, FSM.score_y, linewidth=2, color='r', label=\"Yield\")\n",
    "plt.legend()\n",
    "\n",
    "plt.xlabel(\"Time (s)\", fontdict={\"fontname\": \"Times New Roman\", \"fontsize\": 15, \"fontweight\": \"bold\"})\n",
    "plt.ylabel(\"Confidence\", fontdict={\"fontname\": \"Times New Roman\", \"fontsize\": 15, \"fontweight\": \"bold\"})\n",
    "plt.xticks(font=\"Times New Roman\", size=12)\n",
    "plt.grid(axis='y')"
   ]
  },
  {
   "source": [
    "### Plot Mode"
   ],
   "cell_type": "markdown",
   "metadata": {}
  },
  {
   "cell_type": "code",
   "execution_count": null,
   "metadata": {},
   "outputs": [],
   "source": [
    "# Plot Inline\n",
    "%matplotlib inline\n",
    "\n",
    "fig_name = \"Speed\"\n",
    "fig = plt.figure(fig_name, figsize=(6.5, 2.5))\n",
    "plt.plot(FSM.t, FSM.state_idxs, linewidth=2, color='b')\n",
    "\n",
    "plt.xlabel(\"Time (s)\", fontdict={\"fontname\": \"Times New Roman\", \"fontsize\": 15, \"fontweight\": \"bold\"})\n",
    "plt.yticks(ticks=np.arange(7), labels=FSM.state_names)\n",
    "# plt.ylabel(\"Confidence\", fontdict={\"fontname\": \"Times New Roman\", \"fontsize\": 15, \"fontweight\": \"bold\"})\n",
    "plt.xticks(font=\"Times New Roman\", size=12)\n",
    "plt.grid(axis='y')"
   ]
  }
 ],
 "metadata": {
  "kernelspec": {
   "display_name": "Python 3",
   "language": "python",
   "name": "python3"
  },
  "language_info": {
   "codemirror_mode": {
    "name": "ipython",
    "version": 3
   },
   "file_extension": ".py",
   "mimetype": "text/x-python",
   "name": "python",
   "nbconvert_exporter": "python",
   "pygments_lexer": "ipython3",
   "version": "3.8.5-final"
  }
 },
 "nbformat": 4,
 "nbformat_minor": 4
}