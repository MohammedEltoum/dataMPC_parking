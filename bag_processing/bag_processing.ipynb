{
 "metadata": {
  "language_info": {
   "codemirror_mode": {
    "name": "ipython",
    "version": 3
   },
   "file_extension": ".py",
   "mimetype": "text/x-python",
   "name": "python",
   "nbconvert_exporter": "python",
   "pygments_lexer": "ipython3",
   "version": "3.8.5-final"
  },
  "orig_nbformat": 2,
  "kernelspec": {
   "name": "Python 3.8.5 64-bit ('mpclab_strategy_obca')",
   "display_name": "Python 3.8.5 64-bit ('mpclab_strategy_obca')",
   "metadata": {
    "interpreter": {
     "hash": "064ed9b146e5a888a17d5182c444a3867fbcaac70b4aa1cc8f504e072f74e811"
    }
   }
  }
 },
 "nbformat": 4,
 "nbformat_minor": 2,
 "cells": [
  {
   "source": [
    "# Process Rosbag and plot"
   ],
   "cell_type": "markdown",
   "metadata": {}
  },
  {
   "cell_type": "code",
   "execution_count": null,
   "metadata": {},
   "outputs": [],
   "source": [
    "# Auto Reload Modules\n",
    "%load_ext autoreload\n",
    "%autoreload 2\n",
    "\n",
    "from bag_utils import extract_traj\n",
    "import glob"
   ]
  },
  {
   "source": [
    "## Load bag and extract data"
   ],
   "cell_type": "markdown",
   "metadata": {}
  },
  {
   "cell_type": "code",
   "execution_count": null,
   "metadata": {},
   "outputs": [],
   "source": [
    "bag_files = glob.glob(\"./bag_data/*.bag\")\n",
    "print(\"Found bags:\", bag_files)"
   ]
  },
  {
   "cell_type": "code",
   "execution_count": null,
   "metadata": {
    "tags": []
   },
   "outputs": [],
   "source": [
    "bag_num = 0\n",
    "\n",
    "FSM, EV, TV = extract_traj(bag_files[bag_num])"
   ]
  },
  {
   "source": [
    "## Plot the visualizer"
   ],
   "cell_type": "markdown",
   "metadata": {}
  },
  {
   "cell_type": "code",
   "execution_count": null,
   "metadata": {},
   "outputs": [],
   "source": []
  }
 ]
}