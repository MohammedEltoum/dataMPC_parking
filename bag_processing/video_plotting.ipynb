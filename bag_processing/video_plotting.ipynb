{
 "cells": [
  {
   "cell_type": "markdown",
   "metadata": {},
   "source": [
    "# Process rosbag and plot for ICRA 2021 video submission"
   ]
  },
  {
   "cell_type": "code",
   "execution_count": 13,
   "metadata": {},
   "outputs": [
    {
     "name": "stdout",
     "output_type": "stream",
     "text": [
      "The autoreload extension is already loaded. To reload it, use:\n",
      "  %reload_ext autoreload\n",
      "C:\\Users\\Edward Zhu\\Documents\\GitHub\\dataMPC_parking\\bag_processing\\plot_out\n"
     ]
    }
   ],
   "source": [
    "# Auto Reload Modules\n",
    "%load_ext autoreload\n",
    "%autoreload 2\n",
    "\n",
    "import numpy as np\n",
    "from scipy.signal import lfilter\n",
    "\n",
    "import matplotlib.pyplot as plt\n",
    "import matplotlib.image as mpimg\n",
    "from matplotlib import rc, font_manager, transforms\n",
    "from matplotlib.ticker import FormatStrFormatter\n",
    "\n",
    "from bag_utils import extract_traj\n",
    "from plot_utils import plot_map_2d, plot_map_3d, plot_car_frames\n",
    "\n",
    "import os\n",
    "import pathlib\n",
    "notebook_dir = str(pathlib.Path().absolute())\n",
    "\n",
    "# Ouput directory\n",
    "OUT_DIR = os.path.join(notebook_dir, 'plot_out')\n",
    "if not os.path.isdir(OUT_DIR):\n",
    "    os.mkdir(OUT_DIR)\n",
    "    \n",
    "np.random.seed(0)\n",
    "\n",
    "rc('font', **{'family': \"Times New Roman\"})"
   ]
  },
  {
   "cell_type": "markdown",
   "metadata": {},
   "source": [
    "### Load bag and extract data"
   ]
  },
  {
   "cell_type": "code",
   "execution_count": 2,
   "metadata": {},
   "outputs": [
    {
     "name": "stdout",
     "output_type": "stream",
     "text": [
      "Found bags: ['./bag_data\\\\barc_run_strategy_obca_2020-11-01-16-59-53_exp_10.bag']\n"
     ]
    }
   ],
   "source": [
    "import glob\n",
    "bag_files = glob.glob(\"./bag_data/*.bag\")\n",
    "print(\"Found bags:\", bag_files)"
   ]
  },
  {
   "cell_type": "code",
   "execution_count": 16,
   "metadata": {},
   "outputs": [
    {
     "name": "stdout",
     "output_type": "stream",
     "text": [
      "Topics contained: dict_keys(['/diagnostics', '/ego_vehicle/cam_est', '/ego_vehicle/controller_arduino', '/ego_vehicle/ecu', '/ego_vehicle/ecu_pwm', '/ego_vehicle/encoder', '/ego_vehicle/est_states', '/ego_vehicle/fsm_state', '/ego_vehicle/pred_states', '/ego_vehicle/strategy_scores', '/ego_vehicle/t265/accel/imu_info', '/ego_vehicle/t265/accel/sample', '/ego_vehicle/t265/fisheye1/camera_info', '/ego_vehicle/t265/fisheye2/camera_info', '/ego_vehicle/t265/gyro/imu_info', '/ego_vehicle/t265/gyro/sample', '/ego_vehicle/t265/odom/sample', '/ego_vehicle/t265/realsense2_camera_manager/bond', '/ego_vehicle/t265/tracking_module/parameter_descriptions', '/ego_vehicle/t265/tracking_module/parameter_updates', '/ego_vehicle/time_stats', '/ego_vehicle/vel_est', '/overhead_camera/camera_info', '/overhead_camera/image_rect_color', '/overhead_camera/image_rectification_debayer/parameter_descriptions', '/overhead_camera/image_rectification_debayer/parameter_updates', '/overhead_camera/image_rectification_rectify_color/parameter_descriptions', '/overhead_camera/image_rectification_rectify_color/parameter_updates', '/overhead_camera/image_rectification_rectify_mono/parameter_descriptions', '/overhead_camera/image_rectification_rectify_mono/parameter_updates', '/rosout', '/rosout_agg', '/start_time', '/target_vehicle/cam_est', '/target_vehicle/controller_arduino', '/target_vehicle/controller_logger', '/target_vehicle/ecu', '/target_vehicle/ecu_pwm', '/target_vehicle/encoder', '/target_vehicle/est_states', '/target_vehicle/pred_states', '/target_vehicle/t265/accel/imu_info', '/target_vehicle/t265/accel/sample', '/target_vehicle/t265/fisheye1/camera_info', '/target_vehicle/t265/fisheye2/camera_info', '/target_vehicle/t265/gyro/imu_info', '/target_vehicle/t265/gyro/sample', '/target_vehicle/t265/odom/sample', '/target_vehicle/t265/realsense2_camera_manager/bond', '/target_vehicle/t265/tracking_module/parameter_descriptions', '/target_vehicle/t265/tracking_module/parameter_updates', '/target_vehicle/vel_est', '/tf', '/tf_static'])\n",
      "Trajectory Extraction Finished\n",
      "EV start time: 1604278816.842757, end time: 1604278844.002915\n",
      "TV start time: 1604278809.778242, end time: 1604278826.138135\n",
      "The static data are cut.\n"
     ]
    }
   ],
   "source": [
    "bag_num = 0\n",
    "FSM_strat, EV_strat, TV_strat = extract_traj(bag_files[bag_num])"
   ]
  },
  {
   "cell_type": "markdown",
   "metadata": {},
   "source": [
    "### Choose overhead camera frame number"
   ]
  },
  {
   "cell_type": "code",
   "execution_count": 19,
   "metadata": {},
   "outputs": [],
   "source": [
    "frame = 100\n",
    "\n"
   ]
  },
  {
   "cell_type": "markdown",
   "metadata": {},
   "source": [
    "### Plot trajectory trace with axis labels"
   ]
  },
  {
   "cell_type": "code",
   "execution_count": 20,
   "metadata": {},
   "outputs": [
    {
     "data": {
      "image/png": "[encoded data removed]",
      "text/plain": [
       "<Figure size 1200x800 with 1 Axes>"
      ]
     },
     "metadata": {
      "needs_background": "light"
     },
     "output_type": "display_data"
    }
   ],
   "source": [
    "traj_fig = plt.figure('trajectory_trace', dpi=200)\n",
    "traj_ax = traj_fig.gca()\n",
    "\n",
    "traj_ax.plot(TV_strat.x, TV_strat.y, linewidth=1.5, color='g', label=\"TV\", zorder=5)\n",
    "traj_ax.plot(EV_strat.x, EV_strat.y, linewidth=1.5, color='b', label=\"EV\", zorder=5)\n",
    "traj_ax.set_aspect('equal')\n",
    "plt.draw()\n",
    "plt.show()\n",
    "\n",
    "fig_name = os.join(OUT_DIR, 'traj_trace_axis_' + str(frame) + '.png')\n",
    "traj_fig.savefig(fig_name, transparent=True)"
   ]
  },
  {
   "cell_type": "markdown",
   "metadata": {},
   "source": [
    "### Plot trajectory trace without axis labels"
   ]
  },
  {
   "cell_type": "code",
   "execution_count": 22,
   "metadata": {},
   "outputs": [
    {
     "data": {
      "image/png": "[encoded data removed]",
      "text/plain": [
       "<Figure size 1200x800 with 1 Axes>"
      ]
     },
     "metadata": {
      "needs_background": "light"
     },
     "output_type": "display_data"
    }
   ],
   "source": [
    "traj_fig = plt.figure('trajectory_trace', dpi=200)\n",
    "traj_ax = traj_fig.gca()\n",
    "\n",
    "traj_ax.plot(TV_strat.x, TV_strat.y, linewidth=1.5, color='g', label=\"TV\", zorder=5)\n",
    "traj_ax.plot(EV_strat.x, EV_strat.y, linewidth=1.5, color='b', label=\"EV\", zorder=5)\n",
    "traj_ax.set_aspect('equal')\n",
    "traj_ax.axis('off')\n",
    "plt.draw()\n",
    "plt.show()\n",
    "\n",
    "fig_name = os.path.join(OUT_DIR, 'traj_trace_' + str(frame) + '.png')\n",
    "traj_fig.savefig(fig_name, transparent=True)"
   ]
  },
  {
   "cell_type": "markdown",
   "metadata": {},
   "source": [
    "### Plot States and Inputs"
   ]
  },
  {
   "cell_type": "code",
   "execution_count": null,
   "metadata": {},
   "outputs": [],
   "source": [
    "fig_name = \"States_Inputs\"\n",
    "\n",
    "fig = plt.figure(fig_name, figsize=(12, 7))\n",
    "\n",
    "# ================= Speed Subplot\n",
    "ax_speed = plt.subplot(3, 1, 1)\n",
    "\n",
    "# Filtering\n",
    "n = 20\n",
    "b = [1.0 / n] * n\n",
    "a = 1\n",
    "\n",
    "naive_v_filter = lfilter(b, a, EV_naive.v)\n",
    "strat_v_filter = lfilter(b, a, EV_strat.v)\n",
    "\n",
    "t_naive = np.array(EV_naive.state_t) - EV_naive.state_t0\n",
    "ax_speed.plot(t_naive, naive_v_filter, linewidth=5, color='C4', linestyle='--', label=\"BL\")\n",
    "\n",
    "t_strat = np.array(EV_strat.state_t) - EV_strat.state_t0\n",
    "ax_speed.plot(t_strat, strat_v_filter, linewidth=5, color='C1', label=\"SG\")\n",
    "\n",
    "ax_speed.set_ylabel(\"Speed\\n(m/s)\", fontsize=25, fontweight=\"bold\")\n",
    "ax_speed.set_xlim(left=0, right=30)\n",
    "ax_speed.set_ylim(bottom=-0.6, top=0.6)\n",
    "\n",
    "ax_speed.set_yticks([-0.5, -0.25, 0, 0.25, 0.5])\n",
    "ax_speed.tick_params(axis='y', labelsize=20)\n",
    "ax_speed.yaxis.set_major_formatter(FormatStrFormatter('%.2f'))\n",
    "\n",
    "ax_speed.tick_params(axis='x', bottom=False, labelbottom=False)\n",
    "\n",
    "# ================== Input subplot\n",
    "\n",
    "# Delta\n",
    "ax_delta = plt.subplot(3, 1, 2)\n",
    "\n",
    "t_naive = np.array(EV_naive.input_t) - EV_naive.input_t0\n",
    "ax_delta.plot(t_naive, EV_naive.delta, linewidth=5, color='C4', linestyle='--', label=\"BL\")\n",
    "\n",
    "t_strat = np.array(EV_strat.input_t) - EV_strat.input_t0\n",
    "ax_delta.plot(t_strat, EV_strat.delta, linewidth=5, color='C1', label=\"SG\")\n",
    "\n",
    "ax_delta.set_ylabel(\"Steering\\n(rad)\", fontsize=25, fontweight=\"bold\")\n",
    "ax_delta.set_xlim(left=0, right=30)\n",
    "ax_delta.set_ylim(bottom=-0.6, top=0.6)\n",
    "\n",
    "ax_delta.set_yticks([-0.5, -0.25, 0, 0.25, 0.5])\n",
    "ax_delta.tick_params(axis='y', labelsize=20)\n",
    "ax_delta.yaxis.set_major_formatter(FormatStrFormatter('%.2f'))\n",
    "\n",
    "ax_delta.tick_params(axis='x', bottom=False, labelbottom=False)\n",
    "\n",
    "# Acc\n",
    "ax_acc = plt.subplot(3, 1, 3)\n",
    "\n",
    "ax_acc.plot(t_naive, EV_naive.a, linewidth=5, color='C4', linestyle='--', label=\"BL\")\n",
    "\n",
    "ax_acc.plot(t_strat, EV_strat.a, linewidth=5, color='C1', label=\"SG\")\n",
    "\n",
    "ax_acc.set_xlabel(\"Time (s)\", fontsize=25, fontweight=\"bold\")\n",
    "ax_acc.set_ylabel(\"Accel\\n(m/s$^2$)\", fontsize=25, fontweight=\"bold\")\n",
    "\n",
    "ax_acc.set_xlim(left=0, right=30)\n",
    "ax_acc.set_ylim(bottom=-1.2, top=1.2)\n",
    "\n",
    "\n",
    "ax_acc.set_yticks([-1, -0.5, 0, 0.5, 1])\n",
    "ax_acc.tick_params(axis='y', labelsize=20)\n",
    "ax_acc.yaxis.set_major_formatter(FormatStrFormatter('%.2f'))\n",
    "\n",
    "ax_acc.tick_params(axis='x', labelsize=20)\n",
    "\n",
    "plt.subplots_adjust(hspace=0.1)\n",
    "plt.tight_layout()\n"
   ]
  },
  {
   "cell_type": "markdown",
   "metadata": {},
   "source": [
    "### Plot Score and FSM"
   ]
  },
  {
   "cell_type": "code",
   "execution_count": null,
   "metadata": {},
   "outputs": [],
   "source": [
    "fig_name = \"Score_FSM\"\n",
    "\n",
    "fig = plt.figure(fig_name, figsize=(12, 6))\n",
    "\n",
    "# ================= Score Subplot\n",
    "ax_score = plt.subplot(2, 1, 1)\n",
    "\n",
    "strat_t = np.array(FSM_strat.t) - FSM_strat.t0\n",
    "ax_score.plot(strat_t, FSM_strat.score_l, linewidth=5, color='C3', linestyle='solid', label=\"Pass Left\")\n",
    "ax_score.plot(strat_t, FSM_strat.score_r, linewidth=5, color='C5', linestyle='dashed', label=\"Pass Right\")\n",
    "ax_score.plot(strat_t, FSM_strat.score_y, linewidth=5, color='C6', linestyle='dashdot', label=\"Yield\")\n",
    "\n",
    "ax_score.set_xlim([0, 16])\n",
    "ax_score.set_ylim([-0.02, 1.02])\n",
    "\n",
    "ax_score.set_ylabel(\"Confidence\", labelpad=40, fontsize=25, fontweight=\"bold\")\n",
    "\n",
    "ax_score.tick_params(axis='y', labelsize=20)\n",
    "\n",
    "ax_score.tick_params(axis='x', bottom=False, labelbottom=False)\n",
    "\n",
    "ax_score.grid(axis='y')\n",
    "\n",
    "ax_score.legend(fontsize=20)\n",
    "\n",
    "# ================== Policy subplot\n",
    "\n",
    "ax_policy = plt.subplot(2, 1, 2)\n",
    "\n",
    "naive_t = np.array(FSM_naive.t) - FSM_naive.t0\n",
    "\n",
    "ax_policy.plot(naive_t, FSM_naive.state_idxs, linewidth=5, color='C4', linestyle='--', label=\"BL\")\n",
    "\n",
    "ax_policy.plot(strat_t, FSM_strat.state_idxs, linewidth=5, color='C1', label=\"SG\")\n",
    "\n",
    "ax_policy.set_xlabel(\"Time (s)\", fontsize=25, fontweight=\"bold\")\n",
    "ax_policy.set_ylabel(\"Policy\", fontsize=25, fontweight=\"bold\")\n",
    "\n",
    "ax_policy.set_xlim([0, 20])\n",
    "ax_policy.set_ylim([-0.5, 2.5])\n",
    "\n",
    "ax_policy.set_yticks([0, 1, 2])\n",
    "\n",
    "FSM_strat.state_names = [\"SG/BL-\\nOBCA\", \"SC\", \"EB\"]\n",
    "\n",
    "ax_policy.set_yticklabels(FSM_strat.state_names)\n",
    "ax_policy.tick_params(axis='y', labelsize=20)\n",
    "\n",
    "ax_policy.tick_params(axis='x', labelsize=20)\n",
    "\n",
    "ax_policy.grid(axis='y')\n",
    "\n",
    "plt.subplots_adjust(hspace=0.01)\n",
    "plt.tight_layout()\n"
   ]
  },
  {
   "cell_type": "markdown",
   "metadata": {},
   "source": [
    "### Plot the state and policy"
   ]
  },
  {
   "cell_type": "code",
   "execution_count": null,
   "metadata": {},
   "outputs": [],
   "source": [
    "fig_name = \"States_Policy\"\n",
    "\n",
    "t_max = 17\n",
    "\n",
    "fig = plt.figure(fig_name, figsize=(12, 11))\n",
    "\n",
    "# ================= Speed Subplot\n",
    "ax_speed = plt.subplot(5, 1, 1)\n",
    "\n",
    "# Filtering\n",
    "n = 20\n",
    "b = [1.0 / n] * n\n",
    "a = 1\n",
    "\n",
    "naive_v_filter = lfilter(b, a, EV_naive.v)\n",
    "strat_v_filter = lfilter(b, a, EV_strat.v)\n",
    "\n",
    "t_naive = np.array(EV_naive.state_t) - EV_naive.state_t0\n",
    "ax_speed.plot(t_naive, naive_v_filter, linewidth=5, color='C4', linestyle='--', label=\"BL\")\n",
    "\n",
    "t_strat = np.array(EV_strat.state_t) - EV_strat.state_t0\n",
    "ax_speed.plot(t_strat, strat_v_filter, linewidth=5, color='C1', label=\"SG\")\n",
    "\n",
    "ax_speed.set_ylabel(\"Speed\\n(m/s)\", fontsize=25, fontweight=\"bold\")\n",
    "ax_speed.set_xlim(left=0, right=t_max)\n",
    "ax_speed.set_ylim(bottom=-0.6, top=0.6)\n",
    "\n",
    "ax_speed.set_yticks([-0.5, -0.25, 0, 0.25, 0.5])\n",
    "ax_speed.tick_params(axis='y', labelsize=20)\n",
    "ax_speed.yaxis.set_major_formatter(FormatStrFormatter('%.2f'))\n",
    "\n",
    "ax_speed.tick_params(axis='x', bottom=False, labelbottom=False)\n",
    "\n",
    "# ================== Input subplot\n",
    "\n",
    "# Delta\n",
    "ax_delta = plt.subplot(5, 1, 2)\n",
    "\n",
    "t_naive = np.array(EV_naive.input_t) - EV_naive.input_t0\n",
    "ax_delta.plot(t_naive, EV_naive.delta, linewidth=5, color='C4', linestyle='--', label=\"BL\")\n",
    "\n",
    "t_strat = np.array(EV_strat.input_t) - EV_strat.input_t0\n",
    "ax_delta.plot(t_strat, EV_strat.delta, linewidth=5, color='C1', label=\"SG\")\n",
    "\n",
    "ax_delta.set_ylabel(\"Steering\\n(rad)\", fontsize=25, fontweight=\"bold\")\n",
    "ax_delta.set_xlim(left=0, right=t_max)\n",
    "ax_delta.set_ylim(bottom=-0.6, top=0.6)\n",
    "\n",
    "ax_delta.set_yticks([-0.5, -0.25, 0, 0.25, 0.5])\n",
    "ax_delta.tick_params(axis='y', labelsize=20)\n",
    "ax_delta.yaxis.set_major_formatter(FormatStrFormatter('%.2f'))\n",
    "\n",
    "ax_delta.tick_params(axis='x', bottom=False, labelbottom=False)\n",
    "\n",
    "# Acc\n",
    "ax_acc = plt.subplot(5, 1, 3)\n",
    "\n",
    "ax_acc.plot(t_naive, EV_naive.a, linewidth=5, color='C4', linestyle='--', label=\"BL\")\n",
    "\n",
    "ax_acc.plot(t_strat, EV_strat.a, linewidth=5, color='C1', label=\"SG\")\n",
    "\n",
    "ax_acc.set_ylabel(\"Accel\\n(m/s$^2$)\", fontsize=25, fontweight=\"bold\")\n",
    "\n",
    "ax_acc.set_xlim(left=0, right=t_max)\n",
    "ax_acc.set_ylim(bottom=-1.2, top=1.2)\n",
    "\n",
    "\n",
    "ax_acc.set_yticks([-1, -0.5, 0, 0.5, 1])\n",
    "ax_acc.tick_params(axis='y', labelsize=20)\n",
    "ax_acc.yaxis.set_major_formatter(FormatStrFormatter('%.2f'))\n",
    "\n",
    "ax_acc.tick_params(axis='x', bottom=False, labelbottom=False)\n",
    "\n",
    "# ================= Score Subplot\n",
    "ax_score = plt.subplot(5, 1, 4)\n",
    "\n",
    "strat_t = np.array(FSM_strat.t) - FSM_strat.t0\n",
    "ax_score.plot(strat_t, FSM_strat.score_l, linewidth=5, color='C3', linestyle='solid', label=\"Pass Left\")\n",
    "ax_score.plot(strat_t, FSM_strat.score_r, linewidth=5, color='C5', linestyle='dashed', label=\"Pass Right\")\n",
    "ax_score.plot(strat_t, FSM_strat.score_y, linewidth=5, color='C6', linestyle='dashdot', label=\"Yield\")\n",
    "\n",
    "ax_score.set_xlim([0, t_max])\n",
    "ax_score.set_ylim([-0.02, 1.02])\n",
    "\n",
    "ax_score.set_ylabel(\"Confidence\", labelpad=42.5, fontsize=25, fontweight=\"bold\")\n",
    "ax_score.set_yticks([0, 0.5, 1])\n",
    "\n",
    "ax_score.tick_params(axis='y', labelsize=20)\n",
    "\n",
    "ax_score.tick_params(axis='x', bottom=False, labelbottom=False)\n",
    "\n",
    "ax_score.grid(axis='y')\n",
    "\n",
    "ax_score.legend(loc='center right', fontsize=15)\n",
    "\n",
    "# ================== Policy subplot\n",
    "\n",
    "ax_policy = plt.subplot(5, 1, 5)\n",
    "\n",
    "naive_t = np.array(FSM_naive.t) - FSM_naive.t0\n",
    "\n",
    "ax_policy.plot(naive_t, FSM_naive.state_idxs, linewidth=5, color='C4', linestyle='--', label=\"BL\")\n",
    "\n",
    "ax_policy.plot(strat_t, FSM_strat.state_idxs, linewidth=5, color='C1', label=\"SG\")\n",
    "\n",
    "ax_policy.set_xlabel(\"Time (s)\", fontsize=25, fontweight=\"bold\")\n",
    "ax_policy.set_ylabel(\"Policy\", fontsize=25, fontweight=\"bold\")\n",
    "\n",
    "ax_policy.set_xlim([0, t_max])\n",
    "ax_policy.set_ylim([-0.5, 2.5])\n",
    "\n",
    "ax_policy.set_yticks([0, 1, 2])\n",
    "\n",
    "FSM_strat.state_names = [\"SG/BL-\\nOBCA\", \"SC\", \"EB\"]\n",
    "\n",
    "ax_policy.set_yticklabels(FSM_strat.state_names)\n",
    "ax_policy.tick_params(axis='y', labelsize=20)\n",
    "\n",
    "ax_policy.tick_params(axis='x', labelsize=20)\n",
    "\n",
    "ax_policy.grid(axis='y')\n",
    "\n",
    "plt.subplots_adjust(hspace=0.01)\n",
    "plt.tight_layout()\n"
   ]
  }
 ],
 "metadata": {
  "kernelspec": {
   "display_name": "Python 3",
   "language": "python",
   "name": "python3"
  },
  "language_info": {
   "codemirror_mode": {
    "name": "ipython",
    "version": 3
   },
   "file_extension": ".py",
   "mimetype": "text/x-python",
   "name": "python",
   "nbconvert_exporter": "python",
   "pygments_lexer": "ipython3",
   "version": "3.8.5"
  }
 },
 "nbformat": 4,
 "nbformat_minor": 4
}
