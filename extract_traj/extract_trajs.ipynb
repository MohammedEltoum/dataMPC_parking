{
 "cells": [
  {
   "cell_type": "markdown",
   "metadata": {},
   "source": [
    "# Extract Trajs\n",
    "Extract trajectories from `.pkl` files after `bad_processing` of `carla_analysis`"
   ]
  },
  {
   "cell_type": "code",
   "execution_count": null,
   "metadata": {},
   "outputs": [],
   "source": [
    "%load_ext autoreload\n",
    "%autoreload 2\n",
    "\n",
    "import glob\n",
    "import numpy as np\n",
    "import scipy.io as sio\n",
    "import pickle\n",
    "import matplotlib.pyplot as plt\n",
    "import pdb\n",
    "from datetime import datetime\n",
    "from tqdm.auto import tqdm\n",
    "\n",
    "import traceback\n",
    "\n",
    "from pkl_reader import extract_goals, extract_full_trajectory, interpolate_ego_trajectory"
   ]
  },
  {
   "cell_type": "code",
   "execution_count": null,
   "metadata": {},
   "outputs": [],
   "source": [
    "''' CONFIG: CONSTANTS FOR EXECUTION '''\n",
    "prune_start=True          # remove stationary portion of ego's trajectory at the start\n",
    "prune_end=True            # remove stationary portion of ego's trajectory at the end\n",
    "min_vel_thresh=0.01       # velocity threshold (m/s) above which ego is considered moving\n",
    "exclude_collisions=True  # return an empty trajectory if there was a collision\n",
    "\n",
    "dt = 0.1"
   ]
  },
  {
   "cell_type": "code",
   "execution_count": null,
   "metadata": {
    "scrolled": true
   },
   "outputs": [],
   "source": [
    "save_ext = 'pkl'\n",
    "file_prefix = '../../carla/PythonAPI/examples/bags/'\n",
    "search_str = file_prefix + '*.' + save_ext \n",
    "files_to_process = glob.glob(search_str)\n",
    "print('Found %d files to read: %s' % (len(files_to_process), files_to_process))"
   ]
  },
  {
   "cell_type": "code",
   "execution_count": null,
   "metadata": {
    "scrolled": true
   },
   "outputs": [],
   "source": [
    "''' Extract trajectories'''\n",
    "num_traj = 0\n",
    "\n",
    "parking_lot = None\n",
    "ego_dims    = None\n",
    "\n",
    "all_goals              = []\n",
    "all_parking_lot        = []\n",
    "all_ego_dims           = []\n",
    "all_ego_trajectory     = []\n",
    "all_static_object_list = []\n",
    "\n",
    "for file in tqdm(files_to_process):\n",
    "    if save_ext == 'pkl':\n",
    "        res_dict = pickle.load(open(file,'rb'))\n",
    "    else:\n",
    "        raise NotImplemented('Invalid Extension')\n",
    "    \n",
    "    '''List of [x, y, 0/1] => center position and occupancy (1 free/ 0 occupied)'''\n",
    "    goals = extract_goals(res_dict)\n",
    "    \n",
    "    '''All parking lines as rectangles, [x_center,y_center,dx,dy,th]'''\n",
    "    parking_lot = res_dict['parking_lot']\n",
    "    \n",
    "    '''Dict {'length', 'width'}'''\n",
    "    ego_dims = res_dict['ego_dimensions']\n",
    "    \n",
    "    try:\n",
    "        assert goals.shape[0] == 32, \"Invalid goal shape.\"\n",
    "        assert len(res_dict['vehicle_object_lists'][0]) == 56, \"Wrong number of static vehicles.\"\n",
    "        \n",
    "        # parse one demonstration\n",
    "        ego_trajectory, start_ind, switch_ind, end_ind, goal_ind = \\\n",
    "             extract_full_trajectory(res_dict, goals, prune_start, prune_end, \\\n",
    "                                     min_vel_thresh, exclude_collisions)\n",
    "        \n",
    "        start_time = ego_trajectory[start_ind, 0]\n",
    "        end_time = ego_trajectory[end_ind, 0]\n",
    "        \n",
    "        '''New time stamps, dt = 0.1'''\n",
    "        t_interp = np.arange(start_time, end_time, dt)\n",
    "        \n",
    "        '''(t_interp-t_interp[0], x_interp, y_interp, heading_interp, v_interp, yawrate_interp)'''\n",
    "        interp_ego_traj = interpolate_ego_trajectory(ego_trajectory, t_interp, switch_ind, include_intent = False)\n",
    "        \n",
    "        '''All static vehicles as rectangles [x_center,y_center,dx,dy,th]'''\n",
    "        static_object_list = res_dict['static_object_list']\n",
    "        \n",
    "        num_traj += 1\n",
    "        \n",
    "        all_goals.append(goals)\n",
    "        all_parking_lot.append(parking_lot)\n",
    "        all_ego_dims.append(ego_dims)\n",
    "        all_ego_trajectory.append(interp_ego_traj)\n",
    "        all_static_object_list.append(static_object_list)\n",
    "        \n",
    "    except Exception as e:\n",
    "        print(file, e)\n",
    "        traceback.print_exc()\n",
    "        \n",
    "print(\"Number of trajectories out of all data bags: %d / %d\" % (num_traj, len(files_to_process)) )"
   ]
  },
  {
   "cell_type": "code",
   "execution_count": null,
   "metadata": {},
   "outputs": [],
   "source": [
    "'''Save to MAT file'''\n",
    "matfile = 'traj_data.mat'\n",
    "sio.savemat(matfile, {'goals': all_goals, \n",
    "                      'parking_lot': all_parking_lot, \n",
    "                      'ego_dims': all_ego_dims, \n",
    "                      'ego_trajectory': all_ego_trajectory, \n",
    "                      'static_object_list': all_static_object_list})"
   ]
  },
  {
   "cell_type": "markdown",
   "metadata": {},
   "source": [
    "## Plot and test"
   ]
  },
  {
   "cell_type": "code",
   "execution_count": null,
   "metadata": {},
   "outputs": [],
   "source": [
    "ego_trajectory = all_ego_trajectory[0]\n",
    "plt.figure()\n",
    "plt.plot(ego_trajectory[:,1], ego_trajectory[:,2], linewidth=2)"
   ]
  }
 ],
 "metadata": {
  "kernelspec": {
   "display_name": "Python 3",
   "language": "python",
   "name": "python3"
  },
  "language_info": {
   "codemirror_mode": {
    "name": "ipython",
    "version": 3
   },
   "file_extension": ".py",
   "mimetype": "text/x-python",
   "name": "python",
   "nbconvert_exporter": "python",
   "pygments_lexer": "ipython3",
   "version": "3.6.10"
  }
 },
 "nbformat": 4,
 "nbformat_minor": 4
}
